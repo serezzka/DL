{
 "cells": [
  {
   "cell_type": "markdown",
   "id": "f001cd72",
   "metadata": {},
   "source": [
    "# Лабораторная работа № 4\n",
    "### Провести классификацию найденного датасета, методами наивного Байеса. В формате Markdown писать пояснения. Объяснить почему были выбраны именно такие гиперпараметры, была ли перекрестная проверка, и т.д.\n"
   ]
  },
  {
   "cell_type": "markdown",
   "id": "c9c80c27",
   "metadata": {},
   "source": [
    "## - Импорт библиотек"
   ]
  },
  {
   "cell_type": "code",
   "execution_count": 9,
   "id": "901ed62f",
   "metadata": {},
   "outputs": [],
   "source": [
    "import pandas as pd\n",
    "import numpy as np\n",
    "import matplotlib.pyplot as plt\n",
    "from sklearn.model_selection import train_test_split\n",
    "from sklearn.neighbors import KNeighborsClassifier\n",
    "from sklearn.metrics import accuracy_score\n",
    "from sklearn.model_selection import GridSearchCV\n",
    "from sklearn.neighbors import KNeighborsClassifier\n",
    "from sklearn.metrics import accuracy_score\n",
    "from sklearn.metrics import classification_report\n",
    "from imblearn.under_sampling import RandomUnderSampler\n",
    "from sklearn.preprocessing import LabelEncoder\n",
    "from sklearn.model_selection import cross_val_score\n",
    "import matplotlib.pyplot as plt\n",
    "from sklearn.model_selection import StratifiedKFold\n",
    "from sklearn.preprocessing import StandardScaler\n",
    "from sklearn.svm import SVC\n",
    "from sklearn.preprocessing import LabelEncoder\n",
    "from imblearn.under_sampling import RandomUnderSampler\n",
    "from sklearn.linear_model import LinearRegression, LogisticRegression\n",
    "from sklearn.metrics import mean_absolute_error, mean_squared_error, r2_score\n",
    "from sklearn.metrics import roc_curve, auc\n",
    "from sklearn.preprocessing import label_binarize\n",
    "from sklearn.naive_bayes import GaussianNB, BernoulliNB, MultinomialNB"
   ]
  },
  {
   "cell_type": "markdown",
   "id": "120815c8",
   "metadata": {},
   "source": [
    "## - Инициализация датасета\n",
    "#### (Датасет представляет собой данные о прошедших матчах в Бразильском CS:GO)"
   ]
  },
  {
   "cell_type": "code",
   "execution_count": 2,
   "id": "91adb4c7",
   "metadata": {},
   "outputs": [
    {
     "name": "stdout",
     "output_type": "stream",
     "text": [
      "Количество строк: 184152\n",
      "Количество столбцов: 38\n"
     ]
    }
   ],
   "source": [
    "file_path = r'C:\\Users\\thebi\\tb_lobby_stats_player.csv'\n",
    "\n",
    "data = pd.read_csv(file_path)\n",
    "\n",
    "num_rows, num_cols = data.shape\n",
    "print(f\"Количество строк: {num_rows}\")\n",
    "print(f\"Количество столбцов: {num_cols}\")\n"
   ]
  },
  {
   "cell_type": "code",
   "execution_count": 3,
   "id": "2dd94933",
   "metadata": {},
   "outputs": [
    {
     "name": "stdout",
     "output_type": "stream",
     "text": [
      "Index(['idLobbyGame', 'idPlayer', 'idRoom', 'qtKill', 'qtAssist', 'qtDeath',\n",
      "       'qtHs', 'qtBombeDefuse', 'qtBombePlant', 'qtTk', 'qtTkAssist',\n",
      "       'qt1Kill', 'qt2Kill', 'qt3Kill', 'qt4Kill', 'qt5Kill', 'qtPlusKill',\n",
      "       'qtFirstKill', 'vlDamage', 'qtHits', 'qtShots', 'qtLastAlive',\n",
      "       'qtClutchWon', 'qtRoundsPlayed', 'descMapName', 'vlLevel', 'qtSurvived',\n",
      "       'qtTrade', 'qtFlashAssist', 'qtHitHeadshot', 'qtHitChest',\n",
      "       'qtHitStomach', 'qtHitLeftAtm', 'qtHitRightArm', 'qtHitLeftLeg',\n",
      "       'qtHitRightLeg', 'flWinner', 'dtCreatedAt'],\n",
      "      dtype='object')\n"
     ]
    }
   ],
   "source": [
    "print(data.columns)"
   ]
  },
  {
   "cell_type": "markdown",
   "id": "9c4ce948",
   "metadata": {},
   "source": [
    "## - Удаление столбцов с необрабатываемыми типами данных или просто не влияющих на исход матча"
   ]
  },
  {
   "cell_type": "code",
   "execution_count": 4,
   "id": "88a51a47",
   "metadata": {},
   "outputs": [],
   "source": [
    "columns_to_drop = ['idRoom', 'idPlayer', 'idLobbyGame', 'qtFlashAssist', 'qtHitHeadshot', 'qtHitChest',\n",
    "       'qtHitStomach', 'qtHitLeftAtm', 'qtHitRightArm', 'qtHitLeftLeg',\n",
    "       'qtHitRightLeg', 'dtCreatedAt', 'descMapName']\n",
    "data = data.drop(columns=columns_to_drop)"
   ]
  },
  {
   "cell_type": "code",
   "execution_count": 5,
   "id": "9e173d6e",
   "metadata": {},
   "outputs": [
    {
     "name": "stdout",
     "output_type": "stream",
     "text": [
      "Index(['qtKill', 'qtAssist', 'qtDeath', 'qtHs', 'qtBombeDefuse',\n",
      "       'qtBombePlant', 'qtTk', 'qtTkAssist', 'qt1Kill', 'qt2Kill', 'qt3Kill',\n",
      "       'qt4Kill', 'qt5Kill', 'qtPlusKill', 'qtFirstKill', 'vlDamage', 'qtHits',\n",
      "       'qtShots', 'qtLastAlive', 'qtClutchWon', 'qtRoundsPlayed', 'vlLevel',\n",
      "       'qtSurvived', 'qtTrade', 'flWinner'],\n",
      "      dtype='object')\n"
     ]
    }
   ],
   "source": [
    "print(data.columns)"
   ]
  },
  {
   "cell_type": "markdown",
   "id": "b9964e56",
   "metadata": {},
   "source": [
    "## - Поиск пустых значений в датасете и удаление соответствующих строк"
   ]
  },
  {
   "cell_type": "code",
   "execution_count": 6,
   "id": "a1f4fce8",
   "metadata": {},
   "outputs": [
    {
     "name": "stdout",
     "output_type": "stream",
     "text": [
      "Столбцы с пустыми значениями и их количество:\n",
      "Столбец 'qtTk': 37 пустых значений\n",
      "Столбец 'qtTkAssist': 37 пустых значений\n",
      "Столбец 'qtHits': 37 пустых значений\n",
      "Столбец 'qtLastAlive': 37 пустых значений\n",
      "Столбец 'qtSurvived': 189 пустых значений\n",
      "Столбец 'qtTrade': 189 пустых значений\n",
      "\n",
      "Удалено строк с пустыми значениями: 189\n"
     ]
    }
   ],
   "source": [
    "# Урезка датасета\n",
    "data = data.sample(n=50000, random_state=42)\n",
    "\n",
    "empty_columns = data.columns[data.isnull().any()]\n",
    "empty_columns_count = data[empty_columns].isnull().sum()\n",
    "\n",
    "# Вывод столбцов с пустыми значениями и их количество\n",
    "if len(empty_columns) > 0:\n",
    "    print(\"Столбцы с пустыми значениями и их количество:\")\n",
    "    for column in empty_columns:\n",
    "        print(f\"Столбец '{column}': {empty_columns_count[column]} пустых значений\")\n",
    "    print()\n",
    "\n",
    "    # Удаление строк с пустыми значениями\n",
    "    data_cleaned = data.dropna()\n",
    "    print(f\"Удалено строк с пустыми значениями: {len(data) - len(data_cleaned)}\")\n",
    "else:\n",
    "    print(\"В датасете нет пустых значений\")"
   ]
  },
  {
   "cell_type": "markdown",
   "id": "9e83d1bb",
   "metadata": {},
   "source": [
    "## - Поиск столбцов с нечисловыми значениями"
   ]
  },
  {
   "cell_type": "code",
   "execution_count": 7,
   "id": "f98d7981",
   "metadata": {},
   "outputs": [
    {
     "name": "stdout",
     "output_type": "stream",
     "text": [
      "Все столбцы содержат числовые значения\n",
      "Количество строк: 49811\n",
      "Количество столбцов: 25\n"
     ]
    }
   ],
   "source": [
    "non_numeric_columns = data_cleaned.select_dtypes(exclude=['number']).columns.tolist()\n",
    "\n",
    "if len(non_numeric_columns) > 0:\n",
    "    print(\"Столбцы с нечисловыми значениями:\")\n",
    "    for column in non_numeric_columns:\n",
    "        print(column)\n",
    "else:\n",
    "    print(\"Все столбцы содержат числовые значения\")\n",
    "\n",
    "# Подсчет количества строк и столбцов\n",
    "num_rows, num_cols = data_cleaned.shape\n",
    "print(f\"Количество строк: {num_rows}\")\n",
    "print(f\"Количество столбцов: {num_cols}\")"
   ]
  },
  {
   "cell_type": "markdown",
   "id": "685a658e",
   "metadata": {},
   "source": [
    "## - Поиск лучших гиперпараметров"
   ]
  },
  {
   "cell_type": "code",
   "execution_count": 10,
   "id": "49ba2b10",
   "metadata": {},
   "outputs": [
    {
     "name": "stdout",
     "output_type": "stream",
     "text": [
      "Лучшая модель: GaussianNB\n",
      "Лучшие параметры: {'alpha': 0.1, 'binarize': 0.0}\n",
      "Wall time: 1.4 s\n"
     ]
    }
   ],
   "source": [
    "%%time\n",
    "X = data_cleaned.drop('flWinner', axis=1)\n",
    "y = data_cleaned['flWinner']\n",
    "\n",
    "X_train, X_test, y_train, y_test = train_test_split(X, y, test_size=0.4, random_state=42)\n",
    "\n",
    "\n",
    "under_sampler = RandomUnderSampler(random_state=42)\n",
    "\n",
    "\n",
    "X_resampled, y_resampled = under_sampler.fit_resample(X_train, y_train)\n",
    "\n",
    "\n",
    "# Определение методов наивного байеса\n",
    "naive_bayes_models = {\n",
    "    'GaussianNB': GaussianNB(),\n",
    "    'MultinomialNB': MultinomialNB(),\n",
    "    'BernoulliNB': BernoulliNB(),\n",
    "}\n",
    "\n",
    "# Параметры для GridSearchCV\n",
    "param_grid = {\n",
    "    'GaussianNB': {},\n",
    "    'MultinomialNB': {'alpha': [0.1, 0.5, 1.0]},\n",
    "    'BernoulliNB': {'alpha': [0.1, 0.5, 1.0], 'binarize': [0.0, 0.1, 0.2]},\n",
    "}\n",
    "\n",
    "# Выбор метрики для оценки моделей\n",
    "scoring_metric = 'accuracy'\n",
    "\n",
    "# Обучение и оценка моделей с использованием GridSearchCV\n",
    "best_models = {}\n",
    "for model_name, model in naive_bayes_models.items():\n",
    "    grid_search = GridSearchCV(model, param_grid[model_name], scoring=scoring_metric, cv=5)\n",
    "    grid_search.fit(X_resampled, y_resampled)\n",
    "    \n",
    "    best_models[model_name] = grid_search.best_estimator_\n",
    "# Оценка наилучшей модели на тестовом наборе\n",
    "best_model_name = max(best_models, key=lambda k: grid_search.cv_results_['mean_test_score'][grid_search.best_index_])\n",
    "best_model = best_models[best_model_name]\n",
    "\n",
    "\n",
    "# Вывод результатов\n",
    "print(f\"Лучшая модель: {best_model_name}\")\n",
    "print(f\"Лучшие параметры: {grid_search.best_params_}\")"
   ]
  },
  {
   "cell_type": "markdown",
   "id": "5c231dc4",
   "metadata": {},
   "source": [
    "## - Обучение модели "
   ]
  },
  {
   "cell_type": "code",
   "execution_count": 11,
   "id": "e0544b57",
   "metadata": {},
   "outputs": [
    {
     "name": "stdout",
     "output_type": "stream",
     "text": [
      "Точность модели: 0.6977164366373902\n",
      "              precision    recall  f1-score   support\n",
      "\n",
      "           0       0.71      0.69      0.70     10083\n",
      "           1       0.69      0.71      0.70      9842\n",
      "\n",
      "    accuracy                           0.70     19925\n",
      "   macro avg       0.70      0.70      0.70     19925\n",
      "weighted avg       0.70      0.70      0.70     19925\n",
      "\n",
      "Wall time: 54.1 ms\n"
     ]
    }
   ],
   "source": [
    "%%time\n",
    "\n",
    "best_model.fit(X_resampled, y_resampled)\n",
    "\n",
    "y_pred_full = best_model.predict(X_test)\n",
    "accuracy = accuracy_score(y_test, y_pred_full)\n",
    "classification_rep = classification_report(y_test, y_pred_full)\n",
    "print(f'Точность модели: {accuracy}')\n",
    "print(classification_rep)"
   ]
  },
  {
   "cell_type": "markdown",
   "id": "7a8674fb",
   "metadata": {},
   "source": [
    "__Из проведенной лабораторной работы по использованию моделей наивного Байеса для классификации следует следующий вывод:__\n",
    "\n",
    "    Лучшая модель и параметры: В результате подбора гиперпараметров наилучшей моделью оказалась Gaussian Naive Bayes, с оптимальными значениями гиперпараметров: alpha=0.1 и binarize=0.0. Эти параметры позволили модели достичь наилучшей производительности на данном наборе данных.\n",
    "\n",
    "   Метрики качества модели:\n",
    "\n",
    "    Точность (Precision) и Полнота (Recall): Для класса 0 точность составляет 71%, полнота - 69%. Для класса 1 точность равна 69%, полнота - 71%. Обе метрики близки друг к другу для обоих классов, что указывает на сбалансированность модели в выявлении обоих классов.\n",
    "\n",
    "    F1-score: Средневзвешенное значение F1-меры для обоих классов также составляет около 0.70. Эта метрика учитывает как точность, так и полноту модели, и является показателем их сбалансированности.\n",
    "\n",
    "Общая точность модели: Общая точность модели (accuracy) на тестовой выборке составляет 70%. Это означает, что модель правильно классифицировала 70% всех примеров на тестовой выборке.\n",
    "\n",
    "В целом, модель Gaussian Naive Bayes показывает приемлемую производительность, достигая сбалансированных значений метрик для обоих классов."
   ]
  },
  {
   "cell_type": "code",
   "execution_count": null,
   "id": "81eaac6e",
   "metadata": {},
   "outputs": [],
   "source": []
  }
 ],
 "metadata": {
  "kernelspec": {
   "display_name": "Python 3 (ipykernel)",
   "language": "python",
   "name": "python3"
  },
  "language_info": {
   "codemirror_mode": {
    "name": "ipython",
    "version": 3
   },
   "file_extension": ".py",
   "mimetype": "text/x-python",
   "name": "python",
   "nbconvert_exporter": "python",
   "pygments_lexer": "ipython3",
   "version": "3.9.13"
  }
 },
 "nbformat": 4,
 "nbformat_minor": 5
}
