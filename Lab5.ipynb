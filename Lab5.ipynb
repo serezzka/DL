{
 "cells": [
  {
   "cell_type": "markdown",
   "id": "f001cd72",
   "metadata": {},
   "source": [
    "# Лабораторная работа № 5\n",
    "### Провести классификацию найденного датасета, методами решающего дерева и случайного леса. В формате Markdown писать пояснения. Объяснить почему были выбраны именно такие гиперпараметры, была ли перекрестная проверка, и т.д.\n"
   ]
  },
  {
   "cell_type": "markdown",
   "id": "c9c80c27",
   "metadata": {},
   "source": [
    "## - Импорт библиотек"
   ]
  },
  {
   "cell_type": "code",
   "execution_count": 7,
   "id": "901ed62f",
   "metadata": {},
   "outputs": [],
   "source": [
    "import pandas as pd\n",
    "import numpy as np\n",
    "import matplotlib.pyplot as plt\n",
    "from sklearn.model_selection import train_test_split\n",
    "from sklearn.neighbors import KNeighborsClassifier\n",
    "from sklearn.metrics import accuracy_score\n",
    "from sklearn.model_selection import GridSearchCV\n",
    "from sklearn.neighbors import KNeighborsClassifier\n",
    "from sklearn.metrics import accuracy_score\n",
    "from sklearn.metrics import classification_report\n",
    "from imblearn.under_sampling import RandomUnderSampler\n",
    "from sklearn.preprocessing import LabelEncoder\n",
    "from sklearn.model_selection import cross_val_score\n",
    "import matplotlib.pyplot as plt\n",
    "from sklearn.model_selection import StratifiedKFold\n",
    "from sklearn.preprocessing import StandardScaler\n",
    "from sklearn.svm import SVC\n",
    "from sklearn.preprocessing import LabelEncoder\n",
    "from imblearn.under_sampling import RandomUnderSampler\n",
    "from sklearn.linear_model import LinearRegression, LogisticRegression\n",
    "from sklearn.metrics import mean_absolute_error, mean_squared_error, r2_score\n",
    "from sklearn.metrics import roc_curve, auc\n",
    "from sklearn.preprocessing import label_binarize\n",
    "from sklearn.naive_bayes import GaussianNB, BernoulliNB, MultinomialNB\n",
    "from sklearn.tree import DecisionTreeClassifier\n",
    "from sklearn.ensemble import RandomForestClassifier"
   ]
  },
  {
   "cell_type": "markdown",
   "id": "120815c8",
   "metadata": {},
   "source": [
    "## - Инициализация датасета\n",
    "#### (Датасет представляет собой данные о прошедших матчах в Бразильском CS:GO)"
   ]
  },
  {
   "cell_type": "code",
   "execution_count": 2,
   "id": "91adb4c7",
   "metadata": {},
   "outputs": [
    {
     "name": "stdout",
     "output_type": "stream",
     "text": [
      "Количество строк: 184152\n",
      "Количество столбцов: 38\n"
     ]
    }
   ],
   "source": [
    "file_path = r'C:\\Users\\thebi\\tb_lobby_stats_player.csv'\n",
    "\n",
    "data = pd.read_csv(file_path)\n",
    "\n",
    "num_rows, num_cols = data.shape\n",
    "print(f\"Количество строк: {num_rows}\")\n",
    "print(f\"Количество столбцов: {num_cols}\")\n"
   ]
  },
  {
   "cell_type": "code",
   "execution_count": 3,
   "id": "2dd94933",
   "metadata": {},
   "outputs": [
    {
     "name": "stdout",
     "output_type": "stream",
     "text": [
      "Index(['idLobbyGame', 'idPlayer', 'idRoom', 'qtKill', 'qtAssist', 'qtDeath',\n",
      "       'qtHs', 'qtBombeDefuse', 'qtBombePlant', 'qtTk', 'qtTkAssist',\n",
      "       'qt1Kill', 'qt2Kill', 'qt3Kill', 'qt4Kill', 'qt5Kill', 'qtPlusKill',\n",
      "       'qtFirstKill', 'vlDamage', 'qtHits', 'qtShots', 'qtLastAlive',\n",
      "       'qtClutchWon', 'qtRoundsPlayed', 'descMapName', 'vlLevel', 'qtSurvived',\n",
      "       'qtTrade', 'qtFlashAssist', 'qtHitHeadshot', 'qtHitChest',\n",
      "       'qtHitStomach', 'qtHitLeftAtm', 'qtHitRightArm', 'qtHitLeftLeg',\n",
      "       'qtHitRightLeg', 'flWinner', 'dtCreatedAt'],\n",
      "      dtype='object')\n"
     ]
    }
   ],
   "source": [
    "print(data.columns)"
   ]
  },
  {
   "cell_type": "markdown",
   "id": "9c4ce948",
   "metadata": {},
   "source": [
    "## - Удаление столбцов с необрабатываемыми типами данных или просто не влияющих на исход матча"
   ]
  },
  {
   "cell_type": "code",
   "execution_count": 3,
   "id": "88a51a47",
   "metadata": {},
   "outputs": [],
   "source": [
    "columns_to_drop = ['idRoom', 'idPlayer', 'idLobbyGame', 'qtFlashAssist', 'qtHitHeadshot', 'qtHitChest',\n",
    "       'qtHitStomach', 'qtHitLeftAtm', 'qtHitRightArm', 'qtHitLeftLeg',\n",
    "       'qtHitRightLeg', 'dtCreatedAt', 'descMapName']\n",
    "data = data.drop(columns=columns_to_drop)"
   ]
  },
  {
   "cell_type": "code",
   "execution_count": 5,
   "id": "9e173d6e",
   "metadata": {},
   "outputs": [
    {
     "name": "stdout",
     "output_type": "stream",
     "text": [
      "Index(['qtKill', 'qtAssist', 'qtDeath', 'qtHs', 'qtBombeDefuse',\n",
      "       'qtBombePlant', 'qtTk', 'qtTkAssist', 'qt1Kill', 'qt2Kill', 'qt3Kill',\n",
      "       'qt4Kill', 'qt5Kill', 'qtPlusKill', 'qtFirstKill', 'vlDamage', 'qtHits',\n",
      "       'qtShots', 'qtLastAlive', 'qtClutchWon', 'qtRoundsPlayed', 'vlLevel',\n",
      "       'qtSurvived', 'qtTrade', 'flWinner'],\n",
      "      dtype='object')\n"
     ]
    }
   ],
   "source": [
    "print(data.columns)"
   ]
  },
  {
   "cell_type": "markdown",
   "id": "b9964e56",
   "metadata": {},
   "source": [
    "## - Поиск пустых значений в датасете и удаление соответствующих строк"
   ]
  },
  {
   "cell_type": "code",
   "execution_count": 4,
   "id": "a1f4fce8",
   "metadata": {},
   "outputs": [
    {
     "name": "stdout",
     "output_type": "stream",
     "text": [
      "Столбцы с пустыми значениями и их количество:\n",
      "Столбец 'qtTk': 37 пустых значений\n",
      "Столбец 'qtTkAssist': 37 пустых значений\n",
      "Столбец 'qtHits': 37 пустых значений\n",
      "Столбец 'qtLastAlive': 37 пустых значений\n",
      "Столбец 'qtSurvived': 189 пустых значений\n",
      "Столбец 'qtTrade': 189 пустых значений\n",
      "\n",
      "Удалено строк с пустыми значениями: 189\n"
     ]
    }
   ],
   "source": [
    "# Урезка датасета\n",
    "data = data.sample(n=50000, random_state=42)\n",
    "\n",
    "empty_columns = data.columns[data.isnull().any()]\n",
    "empty_columns_count = data[empty_columns].isnull().sum()\n",
    "\n",
    "# Вывод столбцов с пустыми значениями и их количество\n",
    "if len(empty_columns) > 0:\n",
    "    print(\"Столбцы с пустыми значениями и их количество:\")\n",
    "    for column in empty_columns:\n",
    "        print(f\"Столбец '{column}': {empty_columns_count[column]} пустых значений\")\n",
    "    print()\n",
    "\n",
    "    # Удаление строк с пустыми значениями\n",
    "    data_cleaned = data.dropna()\n",
    "    print(f\"Удалено строк с пустыми значениями: {len(data) - len(data_cleaned)}\")\n",
    "else:\n",
    "    print(\"В датасете нет пустых значений\")"
   ]
  },
  {
   "cell_type": "markdown",
   "id": "9e83d1bb",
   "metadata": {},
   "source": [
    "## - Поиск столбцов с нечисловыми значениями"
   ]
  },
  {
   "cell_type": "code",
   "execution_count": 5,
   "id": "f98d7981",
   "metadata": {},
   "outputs": [
    {
     "name": "stdout",
     "output_type": "stream",
     "text": [
      "Все столбцы содержат числовые значения\n",
      "Количество строк: 49811\n",
      "Количество столбцов: 25\n"
     ]
    }
   ],
   "source": [
    "non_numeric_columns = data_cleaned.select_dtypes(exclude=['number']).columns.tolist()\n",
    "\n",
    "if len(non_numeric_columns) > 0:\n",
    "    print(\"Столбцы с нечисловыми значениями:\")\n",
    "    for column in non_numeric_columns:\n",
    "        print(column)\n",
    "else:\n",
    "    print(\"Все столбцы содержат числовые значения\")\n",
    "\n",
    "# Подсчет количества строк и столбцов\n",
    "num_rows, num_cols = data_cleaned.shape\n",
    "print(f\"Количество строк: {num_rows}\")\n",
    "print(f\"Количество столбцов: {num_cols}\")"
   ]
  },
  {
   "cell_type": "markdown",
   "id": "685a658e",
   "metadata": {},
   "source": [
    "## - Поиск лучших гиперпараметров"
   ]
  },
  {
   "cell_type": "code",
   "execution_count": 8,
   "id": "49ba2b10",
   "metadata": {},
   "outputs": [
    {
     "name": "stdout",
     "output_type": "stream",
     "text": [
      "Decision Tree - Лучшее значение параметра: {'max_depth': 5, 'min_samples_leaf': 4, 'min_samples_split': 2}, Точность на тесте: 0.7684818067754078\n",
      "Random Forest - Лучшие значения параметров: {'max_depth': None, 'min_samples_leaf': 4, 'min_samples_split': 10, 'n_estimators': 150}, Точность на тесте: 0.7841405269761607\n",
      "Wall time: 35min 47s\n"
     ]
    }
   ],
   "source": [
    "%%time\n",
    "X = data_cleaned.drop('flWinner', axis=1)\n",
    "y = data_cleaned['flWinner']\n",
    "\n",
    "X_train, X_test, y_train, y_test = train_test_split(X, y, test_size=0.4, random_state=42)\n",
    "\n",
    "\n",
    "decision_tree = DecisionTreeClassifier()\n",
    "dt_params = {\n",
    "    'max_depth': [None, 5, 10, 15, 20],\n",
    "    'min_samples_split': [2, 5, 10],\n",
    "    'min_samples_leaf': [1, 2, 4]\n",
    "}\n",
    "\n",
    "dt_grid_search = GridSearchCV(decision_tree, dt_params, cv=5)\n",
    "dt_grid_search.fit(X_train, y_train)\n",
    "\n",
    "y_pred_dt = dt_grid_search.predict(X_test)\n",
    "accuracy_dt = accuracy_score(y_test, y_pred_dt)\n",
    "\n",
    "print(f\"Decision Tree - Лучшее значение параметра: {dt_grid_search.best_params_}, Точность на тесте: {accuracy_dt}\")\n",
    "\n",
    "random_forest = RandomForestClassifier()\n",
    "rf_params = {\n",
    "    'n_estimators': [50, 100, 150, 200],\n",
    "    'max_depth': [None, 5, 10, 15],\n",
    "    'min_samples_split': [2, 5, 10],\n",
    "    'min_samples_leaf': [1, 2, 4]\n",
    "}\n",
    "\n",
    "rf_grid_search = GridSearchCV(random_forest, rf_params, cv=5)\n",
    "rf_grid_search.fit(X_train, y_train)\n",
    "\n",
    "y_pred_rf = rf_grid_search.predict(X_test)\n",
    "accuracy_rf = accuracy_score(y_test, y_pred_rf)\n",
    "\n",
    "print(f\"Random Forest - Лучшие значения параметров: {rf_grid_search.best_params_}, Точность на тесте: {accuracy_rf}\")"
   ]
  },
  {
   "cell_type": "markdown",
   "id": "5c231dc4",
   "metadata": {},
   "source": [
    "## - Обучение модели "
   ]
  },
  {
   "cell_type": "code",
   "execution_count": 9,
   "id": "e0544b57",
   "metadata": {},
   "outputs": [
    {
     "name": "stdout",
     "output_type": "stream",
     "text": [
      "Decision Tree с лучшими параметрами - Точность на тесте: 0.7283814303638645\n",
      "Classification Report для Decision Tree:\n",
      "              precision    recall  f1-score   support\n",
      "\n",
      "           0       0.73      0.74      0.73     10083\n",
      "           1       0.73      0.71      0.72      9842\n",
      "\n",
      "    accuracy                           0.73     19925\n",
      "   macro avg       0.73      0.73      0.73     19925\n",
      "weighted avg       0.73      0.73      0.73     19925\n",
      "\n",
      "Random Forest с лучшими параметрами - Точность на тесте: 0.7815307402760351\n",
      "Classification Report для Random Forest:\n",
      "              precision    recall  f1-score   support\n",
      "\n",
      "           0       0.77      0.82      0.79     10083\n",
      "           1       0.80      0.75      0.77      9842\n",
      "\n",
      "    accuracy                           0.78     19925\n",
      "   macro avg       0.78      0.78      0.78     19925\n",
      "weighted avg       0.78      0.78      0.78     19925\n",
      "\n",
      "Wall time: 2.63 s\n"
     ]
    }
   ],
   "source": [
    "%%time\n",
    "\n",
    "best_dt_params = {'max_depth': 20}\n",
    "best_decision_tree = DecisionTreeClassifier(**best_dt_params)\n",
    "best_decision_tree.fit(X_train, y_train)\n",
    "\n",
    "y_pred_best_dt = best_decision_tree.predict(X_test)\n",
    "accuracy_best_dt = accuracy_score(y_test, y_pred_best_dt)\n",
    "\n",
    "print(f\"Decision Tree с лучшими параметрами - Точность на тесте: {accuracy_best_dt}\")\n",
    "print(\"Classification Report для Decision Tree:\")\n",
    "print(classification_report(y_test, y_pred_best_dt))\n",
    "\n",
    "# Для случайного леса\n",
    "best_rf_params = {'max_depth': None, 'n_estimators': 50}\n",
    "best_random_forest = RandomForestClassifier(**best_rf_params)\n",
    "best_random_forest.fit(X_train, y_train)\n",
    "\n",
    "y_pred_best_rf = best_random_forest.predict(X_test)\n",
    "accuracy_best_rf = accuracy_score(y_test, y_pred_best_rf)\n",
    "\n",
    "print(f\"Random Forest с лучшими параметрами - Точность на тесте: {accuracy_best_rf}\")\n",
    "print(\"Classification Report для Random Forest:\")\n",
    "print(classification_report(y_test, y_pred_best_rf))"
   ]
  },
  {
   "cell_type": "markdown",
   "id": "7a8674fb",
   "metadata": {},
   "source": [
    "__Из результатов лабораторной работы с моделями Decision Tree (Дерево решений) и Random Forest (Случайный лес) можно сделать следующие выводы:__\n",
    "\n",
    "    Decision Tree:\n",
    "\n",
    "Точность на тестовой выборке: 72.8%. Модель Decision Tree достигла точности классификации в 72.8% на тестовой выборке.\n",
    "Classification Report:\n",
    "Для класса 0 (первый класс) точность составляет 73%, полнота - 74%, F1-мера - 73%.\n",
    "Для класса 1 (второй класс) точность равна 73%, полнота - 71%, F1-мера - 72%.\n",
    "Общий вывод по Decision Tree: Модель достаточно хорошо справляется с классификацией обоих классов, хотя наблюдается небольшая разница между точностью и полнотой для обоих классов.\n",
    "\n",
    "    Random Forest:\n",
    "    \n",
    "Точность на тестовой выборке: 78.2%. Random Forest показал более высокую точность классификации на тестовой выборке - 78.2%.\n",
    "Classification Report:\n",
    "Для класса 0 точность составляет 77%, полнота - 82%, F1-мера - 79%.\n",
    "Для класса 1 точность равна 80%, полнота - 75%, F1-мера - 77%.\n",
    "\n",
    "__Общий вывод по Random Forest: Эта модель демонстрирует более высокую точность классификации обоих классов, а также более сбалансированные значения точности и полноты по сравнению с Decision Tree.\n",
    "В целом, Random Forest показал более высокую производительность по сравнению с Decision Tree на этом наборе данных, обеспечивая более высокую точность классификации и более сбалансированные метрики точности и полноты для обоих классов. Это свидетельствует о том, что Random Forest может быть предпочтительнее для решения данной задачи классификации.__"
   ]
  },
  {
   "cell_type": "code",
   "execution_count": null,
   "id": "81eaac6e",
   "metadata": {},
   "outputs": [],
   "source": []
  }
 ],
 "metadata": {
  "kernelspec": {
   "display_name": "Python 3 (ipykernel)",
   "language": "python",
   "name": "python3"
  },
  "language_info": {
   "codemirror_mode": {
    "name": "ipython",
    "version": 3
   },
   "file_extension": ".py",
   "mimetype": "text/x-python",
   "name": "python",
   "nbconvert_exporter": "python",
   "pygments_lexer": "ipython3",
   "version": "3.9.13"
  }
 },
 "nbformat": 4,
 "nbformat_minor": 5
}
